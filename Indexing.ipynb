{
 "cells": [
  {
   "cell_type": "markdown",
   "id": "bf90d919-8262-4e47-983e-0cec959bceff",
   "metadata": {},
   "source": [
    "Selecting Data (Indexing) in PyTorch"
   ]
  },
  {
   "cell_type": "markdown",
   "id": "4e592ab9-4d1e-48f9-8460-e589f3444802",
   "metadata": {},
   "source": [
    "Basic Indexing and Slicing"
   ]
  },
  {
   "cell_type": "code",
   "execution_count": 1,
   "id": "15c8608a-2903-4db1-8a6e-1f5912062115",
   "metadata": {},
   "outputs": [
    {
     "name": "stdout",
     "output_type": "stream",
     "text": [
      "Original Tensor: tensor([10, 20, 30, 40, 50])\n",
      "First element: tensor(10)\n",
      "Last element: tensor(50)\n"
     ]
    }
   ],
   "source": [
    "#Indexing a 1D Tensor\n",
    "import torch\n",
    "\n",
    "tensor = torch.tensor([10, 20, 30, 40, 50])\n",
    "print(\"Original Tensor:\", tensor)\n",
    "\n",
    "print(\"First element:\", tensor[0])\n",
    "print(\"Last element:\", tensor[-1])\n"
   ]
  },
  {
   "cell_type": "code",
   "execution_count": 2,
   "id": "9e83f189-9dd8-4a4a-a2f7-7253c9649a31",
   "metadata": {},
   "outputs": [
    {
     "name": "stdout",
     "output_type": "stream",
     "text": [
      "Element at row=1, col=2: tensor(6)\n"
     ]
    }
   ],
   "source": [
    "#Indexing a 2D Tensor (Matrices)\n",
    "tensor_2d = torch.tensor([[1, 2, 3], \n",
    "                           [4, 5, 6], \n",
    "                           [7, 8, 9]])\n",
    "\n",
    "print(\"Element at row=1, col=2:\", tensor_2d[1, 2])  # 6\n"
   ]
  },
  {
   "cell_type": "code",
   "execution_count": 3,
   "id": "b9b30002-237f-4490-8321-3917f311fa8b",
   "metadata": {},
   "outputs": [
    {
     "name": "stdout",
     "output_type": "stream",
     "text": [
      "First two rows:\n",
      " tensor([[1, 2, 3],\n",
      "        [4, 5, 6]])\n",
      "Last two columns:\n",
      " tensor([[2, 3],\n",
      "        [5, 6],\n",
      "        [8, 9]])\n"
     ]
    }
   ],
   "source": [
    "#Slicing a Tensor\n",
    "# Select first two rows\n",
    "print(\"First two rows:\\n\", tensor_2d[:2, :])\n",
    "\n",
    "# Select last two columns\n",
    "print(\"Last two columns:\\n\", tensor_2d[:, 1:])\n"
   ]
  },
  {
   "cell_type": "markdown",
   "id": "e4c23499-1820-4536-a557-c468e15d56d2",
   "metadata": {},
   "source": [
    "Advanced Indexing in PyTorch"
   ]
  },
  {
   "cell_type": "code",
   "execution_count": 4,
   "id": "35bf8578-73e3-4fb9-b48f-a481d8336dc9",
   "metadata": {},
   "outputs": [
    {
     "name": "stdout",
     "output_type": "stream",
     "text": [
      "Filtered Tensor: tensor([30, 40, 50])\n"
     ]
    }
   ],
   "source": [
    "#Boolean Indexing\n",
    "tensor = torch.tensor([10, 20, 30, 40, 50])\n",
    "mask = tensor > 25  \n",
    "filtered_tensor = tensor[mask]\n",
    "print(\"Filtered Tensor:\", filtered_tensor)\n"
   ]
  },
  {
   "cell_type": "code",
   "execution_count": 5,
   "id": "c9582812-1997-4adf-86da-fd7bf2208f77",
   "metadata": {},
   "outputs": [
    {
     "name": "stdout",
     "output_type": "stream",
     "text": [
      "Selected Elements: tensor([10, 30, 50])\n"
     ]
    }
   ],
   "source": [
    "#Indexing with Tensors (Fancy Indexing)\n",
    "tensor = torch.tensor([10, 20, 30, 40, 50])\n",
    "indices = torch.tensor([0, 2, 4])  \n",
    "selected_elements = tensor[indices]\n",
    "print(\"Selected Elements:\", selected_elements)\n"
   ]
  },
  {
   "cell_type": "code",
   "execution_count": 6,
   "id": "fa89f3a9-c532-4da0-a110-4948693297d9",
   "metadata": {},
   "outputs": [
    {
     "name": "stdout",
     "output_type": "stream",
     "text": [
      "Every second element: tensor([10, 30, 50])\n"
     ]
    }
   ],
   "source": [
    "#Selecting Non-Contiguous Elements\n",
    "tensor = torch.tensor([10, 20, 30, 40, 50])\n",
    "print(\"Every second element:\", tensor[::2])\n"
   ]
  },
  {
   "cell_type": "code",
   "execution_count": 7,
   "id": "edac3d54-6a55-40f4-b7df-f3b23488de03",
   "metadata": {},
   "outputs": [
    {
     "name": "stdout",
     "output_type": "stream",
     "text": [
      "Selected Rows:\n",
      " tensor([[1, 2, 3],\n",
      "        [7, 8, 9]])\n"
     ]
    }
   ],
   "source": [
    "#Selecting Multiple Rows or Columns\n",
    "tensor_2d = torch.tensor([[1, 2, 3], \n",
    "                           [4, 5, 6], \n",
    "                           [7, 8, 9]])\n",
    "\n",
    "# Select first and third rows\n",
    "rows = torch.tensor([0, 2])\n",
    "selected_rows = tensor_2d[rows, :]\n",
    "print(\"Selected Rows:\\n\", selected_rows)\n"
   ]
  },
  {
   "cell_type": "markdown",
   "id": "0721b93b-c4d8-4c98-82a0-9479402cf59c",
   "metadata": {},
   "source": [
    "Modifying Tensors Using Indexing"
   ]
  },
  {
   "cell_type": "code",
   "execution_count": 8,
   "id": "7ead6ac2-bc16-4778-8205-f9bc9263292e",
   "metadata": {},
   "outputs": [
    {
     "name": "stdout",
     "output_type": "stream",
     "text": [
      "Modified Tensor: tensor([ 10, 100, 200,  40,  50])\n"
     ]
    }
   ],
   "source": [
    "#Modifying Tensor Elements\n",
    "tensor = torch.tensor([10, 20, 30, 40, 50])\n",
    "tensor[1:3] = torch.tensor([100, 200])  \n",
    "print(\"Modified Tensor:\", tensor)\n"
   ]
  },
  {
   "cell_type": "code",
   "execution_count": null,
   "id": "b0c76b92-95ec-487e-89d2-7cf966834ed6",
   "metadata": {},
   "outputs": [],
   "source": []
  }
 ],
 "metadata": {
  "kernelspec": {
   "display_name": "Python 3 (ipykernel)",
   "language": "python",
   "name": "python3"
  },
  "language_info": {
   "codemirror_mode": {
    "name": "ipython",
    "version": 3
   },
   "file_extension": ".py",
   "mimetype": "text/x-python",
   "name": "python",
   "nbconvert_exporter": "python",
   "pygments_lexer": "ipython3",
   "version": "3.10.0"
  }
 },
 "nbformat": 4,
 "nbformat_minor": 5
}
