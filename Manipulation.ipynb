{
 "cells": [
  {
   "cell_type": "code",
   "execution_count": 1,
   "id": "c563a4f2-e776-4640-bf7c-1600c6060aa8",
   "metadata": {},
   "outputs": [
    {
     "name": "stdout",
     "output_type": "stream",
     "text": [
      "tensor([10, 20, 30])\n",
      "tensor(60)\n"
     ]
    }
   ],
   "source": [
    "##Indexing a Tensor\n",
    "import torch\n",
    "\n",
    "x = torch.tensor([[10, 20, 30], [40, 50, 60]])\n",
    "\n",
    "print(x[0])      # Access first row → tensor([10, 20, 30])\n",
    "print(x[1, 2])   # Access element at (1,2) → tensor(60)\n"
   ]
  },
  {
   "cell_type": "code",
   "execution_count": 2,
   "id": "688d13c4-94f0-4f02-84cb-9a0889515453",
   "metadata": {},
   "outputs": [
    {
     "name": "stdout",
     "output_type": "stream",
     "text": [
      "tensor([20, 50])\n",
      "tensor([10, 20, 30])\n"
     ]
    }
   ],
   "source": [
    "##Slicing a Tensor\n",
    "print(x[:, 1])   # Selects all rows, second column → tensor([20, 50])\n",
    "print(x[0, :])   # Selects first row → tensor([10, 20, 30])\n"
   ]
  },
  {
   "cell_type": "code",
   "execution_count": 3,
   "id": "213b97cc-5b96-4684-9242-984e6544a67d",
   "metadata": {},
   "outputs": [
    {
     "name": "stdout",
     "output_type": "stream",
     "text": [
      "tensor([[0, 1, 2],\n",
      "        [3, 4, 5]])\n",
      "tensor([[0, 1],\n",
      "        [2, 3],\n",
      "        [4, 5]])\n"
     ]
    }
   ],
   "source": [
    "## .view() vs .reshape()\n",
    "x = torch.arange(6)  # tensor([0, 1, 2, 3, 4, 5])\n",
    "\n",
    "y = x.view(2, 3)     # Reshape into (2x3)\n",
    "print(y)\n",
    "\n",
    "z = x.reshape(3, 2)  # Reshape into (3x2)\n",
    "print(z)\n"
   ]
  },
  {
   "cell_type": "code",
   "execution_count": 4,
   "id": "9fc5d2e5-c4b7-44ef-bee1-99c2ff666d72",
   "metadata": {},
   "outputs": [
    {
     "name": "stdout",
     "output_type": "stream",
     "text": [
      "tensor([[1, 2],\n",
      "        [3, 4],\n",
      "        [5, 6],\n",
      "        [7, 8]])\n",
      "tensor([[1, 2, 5, 6],\n",
      "        [3, 4, 7, 8]])\n"
     ]
    }
   ],
   "source": [
    "##Concatenation (torch.cat())\n",
    "a = torch.tensor([[1, 2], [3, 4]])\n",
    "b = torch.tensor([[5, 6], [7, 8]])\n",
    "\n",
    "c = torch.cat((a, b), dim=0)  # Concatenate along rows\n",
    "print(c)\n",
    "\n",
    "d = torch.cat((a, b), dim=1)  # Concatenate along columns\n",
    "print(d)\n"
   ]
  },
  {
   "cell_type": "code",
   "execution_count": 5,
   "id": "caf91b21-60f7-48aa-9ecc-fd0454573fb8",
   "metadata": {},
   "outputs": [
    {
     "name": "stdout",
     "output_type": "stream",
     "text": [
      "torch.Size([2, 2, 2])\n"
     ]
    }
   ],
   "source": [
    "##Stacking (torch.stack())\n",
    "e = torch.stack((a, b), dim=0)  \n",
    "print(e.shape)  # (2,2,2)\n"
   ]
  },
  {
   "cell_type": "code",
   "execution_count": 6,
   "id": "3614e7fe-3d2e-4086-a48f-49ec2a246324",
   "metadata": {},
   "outputs": [
    {
     "name": "stdout",
     "output_type": "stream",
     "text": [
      "tensor([5, 7, 9])\n",
      "tensor([-3, -3, -3])\n",
      "tensor([ 4, 10, 18])\n",
      "tensor([0.2500, 0.4000, 0.5000])\n"
     ]
    }
   ],
   "source": [
    "##Basic Operations\n",
    "x = torch.tensor([1, 2, 3])\n",
    "y = torch.tensor([4, 5, 6])\n",
    "\n",
    "print(x + y)  # tensor([5, 7, 9])\n",
    "print(x - y)  # tensor([-3, -3, -3])\n",
    "print(x * y)  # tensor([4, 10, 18])\n",
    "print(x / y)  # tensor([0.25, 0.4, 0.5])\n"
   ]
  },
  {
   "cell_type": "code",
   "execution_count": 7,
   "id": "f470c26d-f0aa-4c3e-a4e2-e548b10cc05d",
   "metadata": {},
   "outputs": [
    {
     "name": "stdout",
     "output_type": "stream",
     "text": [
      "tensor([5, 7, 9])\n"
     ]
    }
   ],
   "source": [
    "##In-place Operations (_ Suffix)\n",
    "x.add_(y)  # x is modified in-place\n",
    "print(x)\n"
   ]
  },
  {
   "cell_type": "code",
   "execution_count": 8,
   "id": "7c76af36-ba71-4ad7-8fa6-b5ccf84be817",
   "metadata": {},
   "outputs": [
    {
     "name": "stdout",
     "output_type": "stream",
     "text": [
      "tensor([[1, 4],\n",
      "        [2, 5],\n",
      "        [3, 6]])\n"
     ]
    }
   ],
   "source": [
    "##.T (Transpose for 2D Tensors)\n",
    "x = torch.tensor([[1, 2, 3], [4, 5, 6]])\n",
    "print(x.T)  # Transposes rows and columns\n"
   ]
  },
  {
   "cell_type": "code",
   "execution_count": 9,
   "id": "71b7fecb-d4d8-4d87-b673-bd35f50d6623",
   "metadata": {},
   "outputs": [
    {
     "name": "stdout",
     "output_type": "stream",
     "text": [
      "torch.Size([4, 2, 3])\n"
     ]
    }
   ],
   "source": [
    "##.permute() (Generalized Dimension Change)\n",
    "x = torch.rand(2, 3, 4)  # Shape: (2, 3, 4)\n",
    "y = x.permute(2, 0, 1)   # Reorders dimensions\n",
    "print(y.shape)  # (4, 2, 3)\n"
   ]
  },
  {
   "cell_type": "code",
   "execution_count": 10,
   "id": "e2cd50ff-182f-4aed-8390-d4fb00674298",
   "metadata": {},
   "outputs": [
    {
     "name": "stdout",
     "output_type": "stream",
     "text": [
      "torch.Size([1, 3, 1, 4])\n",
      "torch.Size([3, 4])\n"
     ]
    }
   ],
   "source": [
    "##.squeeze() (Remove Singleton Dimensions)\n",
    "x = torch.rand(1, 3, 1, 4)\n",
    "print(x.shape)  # (1, 3, 1, 4)\n",
    "\n",
    "y = x.squeeze()\n",
    "print(y.shape)  # (3, 4)\n"
   ]
  },
  {
   "cell_type": "code",
   "execution_count": 11,
   "id": "b55228db-848c-4e84-a279-ce95720e7588",
   "metadata": {},
   "outputs": [
    {
     "name": "stdout",
     "output_type": "stream",
     "text": [
      "torch.Size([1, 3])\n"
     ]
    }
   ],
   "source": [
    "##.unsqueeze() (Add Singleton Dimensions)\n",
    "x = torch.tensor([1, 2, 3])\n",
    "y = x.unsqueeze(0)  # Add a batch dimension\n",
    "print(y.shape)  # (1, 3)\n"
   ]
  },
  {
   "cell_type": "code",
   "execution_count": 12,
   "id": "39933dc3-2877-4e97-a8af-8955125550d3",
   "metadata": {},
   "outputs": [
    {
     "name": "stdout",
     "output_type": "stream",
     "text": [
      "Original Shape: torch.Size([3, 4])\n",
      "Concatenated Shape: torch.Size([6, 4])\n",
      "Reshaped Shape: torch.Size([4, 3])\n",
      "Permuted Shape: torch.Size([4, 3])\n",
      "Squeezed Shape: torch.Size([4, 3])\n"
     ]
    }
   ],
   "source": [
    "import torch\n",
    "\n",
    "# Creating tensors\n",
    "x = torch.rand(3, 4)\n",
    "y = torch.rand(3, 4)\n",
    "\n",
    "# Manipulations\n",
    "z = torch.cat((x, y), dim=0)\n",
    "reshaped = x.reshape(4, 3)\n",
    "permuted = x.permute(1, 0)\n",
    "squeezed = reshaped.squeeze()\n",
    "\n",
    "# Output\n",
    "print(\"Original Shape:\", x.shape)\n",
    "print(\"Concatenated Shape:\", z.shape)\n",
    "print(\"Reshaped Shape:\", reshaped.shape)\n",
    "print(\"Permuted Shape:\", permuted.shape)\n",
    "print(\"Squeezed Shape:\", squeezed.shape)\n"
   ]
  },
  {
   "cell_type": "code",
   "execution_count": 13,
   "id": "594be722-a159-4250-bf9a-4db5dbc095f0",
   "metadata": {},
   "outputs": [
    {
     "name": "stdout",
     "output_type": "stream",
     "text": [
      "tensor([[1, 2],\n",
      "        [3, 4],\n",
      "        [5, 6],\n",
      "        [7, 8]])\n",
      "tensor([[1, 2, 5, 6],\n",
      "        [3, 4, 7, 8]])\n"
     ]
    }
   ],
   "source": [
    "##How do you concatenate two tensors along a specific dimension?\n",
    "a = torch.tensor([[1, 2], [3, 4]])\n",
    "b = torch.tensor([[5, 6], [7, 8]])\n",
    "\n",
    "c = torch.cat((a, b), dim=0)  # Concatenate along rows\n",
    "d = torch.cat((a, b), dim=1)  # Concatenate along columns\n",
    "\n",
    "print(c)  \n",
    "\n",
    "print(d)  \n"
   ]
  },
  {
   "cell_type": "code",
   "execution_count": 14,
   "id": "073c355f-d1f3-4d9f-bf74-7866f548ceab",
   "metadata": {},
   "outputs": [],
   "source": [
    "##What is the difference between .contiguous() and .non_contiguous() tensors in PyTorch?\n",
    "x = torch.rand(3, 4).permute(1, 0)  # Non-contiguous tensor\n",
    "y = x.contiguous().view(4, 3)  # Now memory is contiguous\n"
   ]
  },
  {
   "cell_type": "code",
   "execution_count": null,
   "id": "03353f85-e2c8-44a4-92f1-3d06e8d1126b",
   "metadata": {},
   "outputs": [],
   "source": []
  }
 ],
 "metadata": {
  "kernelspec": {
   "display_name": "Python 3 (ipykernel)",
   "language": "python",
   "name": "python3"
  },
  "language_info": {
   "codemirror_mode": {
    "name": "ipython",
    "version": 3
   },
   "file_extension": ".py",
   "mimetype": "text/x-python",
   "name": "python",
   "nbconvert_exporter": "python",
   "pygments_lexer": "ipython3",
   "version": "3.10.0"
  }
 },
 "nbformat": 4,
 "nbformat_minor": 5
}
