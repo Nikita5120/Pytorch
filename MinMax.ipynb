{
 "cells": [
  {
   "cell_type": "code",
   "execution_count": 3,
   "id": "b7deaba0-1bd8-472c-ba0f-cc8c7248fecd",
   "metadata": {},
   "outputs": [
    {
     "name": "stdout",
     "output_type": "stream",
     "text": [
      "Minimum value: tensor(1)\n",
      "Minimum values along columns: tensor([3, 2, 1])\n",
      "Minimum values along rows: tensor([1, 2, 4])\n"
     ]
    }
   ],
   "source": [
    "#Finding the Minimum Value\n",
    "import torch\n",
    "\n",
    "tensor = torch.tensor([[3, 7, 1], [5, 2, 8], [9, 6, 4]])\n",
    "\n",
    "min_value = torch.min(tensor)\n",
    "print(\"Minimum value:\", min_value)\n",
    "\n",
    "min_col = torch.min(tensor, dim=0)\n",
    "print(\"Minimum values along columns:\", min_col.values)\n",
    "\n",
    "min_row = torch.min(tensor, dim=1)\n",
    "print(\"Minimum values along rows:\", min_row.values)\n"
   ]
  },
  {
   "cell_type": "code",
   "execution_count": 4,
   "id": "2dd52e3a-6218-413e-933f-c275e22f257a",
   "metadata": {},
   "outputs": [
    {
     "name": "stdout",
     "output_type": "stream",
     "text": [
      "Maximum value: tensor(9)\n",
      "Maximum values along columns: tensor([9, 7, 8])\n",
      "Maximum values along rows: tensor([7, 8, 9])\n"
     ]
    }
   ],
   "source": [
    "#Finding the Maximum Value\n",
    "\n",
    "max_value = torch.max(tensor)\n",
    "print(\"Maximum value:\", max_value)\n",
    "\n",
    "max_col = torch.max(tensor, dim=0)\n",
    "print(\"Maximum values along columns:\", max_col.values)\n",
    "\n",
    "max_row = torch.max(tensor, dim=1)\n",
    "print(\"Maximum values along rows:\", max_row.values)\n"
   ]
  },
  {
   "cell_type": "code",
   "execution_count": 5,
   "id": "cb68efda-e96f-4529-9509-21b65c715aeb",
   "metadata": {},
   "outputs": [
    {
     "name": "stdout",
     "output_type": "stream",
     "text": [
      "Mean value: tensor(5.)\n",
      "Mean values along columns: tensor([5.6667, 5.0000, 4.3333])\n",
      "Mean values along rows: tensor([3.6667, 5.0000, 6.3333])\n"
     ]
    }
   ],
   "source": [
    "#Computing the Mean (Average)\n",
    "mean_value = torch.mean(tensor.float())  \n",
    "print(\"Mean value:\", mean_value)\n",
    "\n",
    "mean_col = torch.mean(tensor.float(), dim=0)\n",
    "print(\"Mean values along columns:\", mean_col)\n",
    "\n",
    "mean_row = torch.mean(tensor.float(), dim=1)\n",
    "print(\"Mean values along rows:\", mean_row)\n"
   ]
  },
  {
   "cell_type": "code",
   "execution_count": 6,
   "id": "6642f6bb-e8ac-40c1-afd3-3fe369755fb8",
   "metadata": {},
   "outputs": [
    {
     "name": "stdout",
     "output_type": "stream",
     "text": [
      "Sum of all elements: tensor(45)\n",
      "Sum along columns: tensor([17, 15, 13])\n",
      "Sum along rows: tensor([11, 15, 19])\n"
     ]
    }
   ],
   "source": [
    "#Computing the Sum\n",
    "sum_value = torch.sum(tensor)\n",
    "print(\"Sum of all elements:\", sum_value)\n",
    "\n",
    "sum_col = torch.sum(tensor, dim=0)\n",
    "print(\"Sum along columns:\", sum_col)\n",
    "\n",
    "sum_row = torch.sum(tensor, dim=1)\n",
    "print(\"Sum along rows:\", sum_row)\n"
   ]
  },
  {
   "cell_type": "code",
   "execution_count": 7,
   "id": "3bc502f8-fcab-4839-ba73-546b76188721",
   "metadata": {},
   "outputs": [
    {
     "name": "stdout",
     "output_type": "stream",
     "text": [
      "3D Tensor:\n",
      " tensor([[[1, 7, 4],\n",
      "         [8, 0, 1],\n",
      "         [8, 8, 2]],\n",
      "\n",
      "        [[2, 3, 6],\n",
      "         [0, 1, 2],\n",
      "         [5, 5, 8]]])\n",
      "Minimum along dim 0:\n",
      " tensor([[1, 3, 4],\n",
      "        [0, 0, 1],\n",
      "        [5, 5, 2]])\n",
      "Maximum along dim 0:\n",
      " tensor([[2, 7, 6],\n",
      "        [8, 1, 2],\n",
      "        [8, 8, 8]])\n"
     ]
    }
   ],
   "source": [
    "#Handling Multi-Dimensional Tensors\n",
    "tensor_3d = torch.randint(0, 10, (2, 3, 3))  # Shape: (2, 3, 3)\n",
    "print(\"3D Tensor:\\n\", tensor_3d)\n",
    "\n",
    "min_dim0 = torch.min(tensor_3d, dim=0).values\n",
    "max_dim0 = torch.max(tensor_3d, dim=0).values\n",
    "\n",
    "print(\"Minimum along dim 0:\\n\", min_dim0)\n",
    "print(\"Maximum along dim 0:\\n\", max_dim0)\n"
   ]
  },
  {
   "cell_type": "code",
   "execution_count": 9,
   "id": "f0a44cfc-09c8-4423-9178-afccc62fb0c1",
   "metadata": {},
   "outputs": [
    {
     "name": "stdout",
     "output_type": "stream",
     "text": [
      "tensor([[0.2500, 0.7500, 0.0000],\n",
      "        [0.5000, 0.1250, 0.8750],\n",
      "        [1.0000, 0.6250, 0.3750]])\n"
     ]
    }
   ],
   "source": [
    "#How would you normalize a tensor using min-max scaling?\n",
    "min_val = torch.min(tensor)\n",
    "max_val = torch.max(tensor)\n",
    "normalized_tensor = (tensor - min_val) / (max_val - min_val)\n",
    "print(normalized_tensor)\n"
   ]
  },
  {
   "cell_type": "code",
   "execution_count": null,
   "id": "6ec60b03-9541-48f9-8e01-19d210eb83db",
   "metadata": {},
   "outputs": [],
   "source": []
  }
 ],
 "metadata": {
  "kernelspec": {
   "display_name": "Python 3 (ipykernel)",
   "language": "python",
   "name": "python3"
  },
  "language_info": {
   "codemirror_mode": {
    "name": "ipython",
    "version": 3
   },
   "file_extension": ".py",
   "mimetype": "text/x-python",
   "name": "python",
   "nbconvert_exporter": "python",
   "pygments_lexer": "ipython3",
   "version": "3.10.0"
  }
 },
 "nbformat": 4,
 "nbformat_minor": 5
}
