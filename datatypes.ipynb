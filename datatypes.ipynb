{
 "cells": [
  {
   "cell_type": "code",
   "execution_count": 6,
   "id": "d1e72dee-a8e0-4393-bedf-dc0120948fe9",
   "metadata": {},
   "outputs": [
    {
     "name": "stdout",
     "output_type": "stream",
     "text": [
      "tensor([[1, 2, 3],\n",
      "        [4, 5, 6]])\n"
     ]
    }
   ],
   "source": [
    "##Basic Tensor Operation\n",
    "import torch\n",
    "x=torch.tensor([[1,2,3],[4,5,6]])\n",
    "print(x)"
   ]
  },
  {
   "cell_type": "code",
   "execution_count": 3,
   "id": "394490e9-2220-4b91-b808-11776a1462c9",
   "metadata": {},
   "outputs": [
    {
     "name": "stdout",
     "output_type": "stream",
     "text": [
      "Shape:torch.Size([2, 4])\n"
     ]
    }
   ],
   "source": [
    "x=torch.tensor([[1.4,4.5,9,90],[3.1,4.0,1,7]])\n",
    "print(f\"Shape:{x.shape}\")"
   ]
  },
  {
   "cell_type": "code",
   "execution_count": 8,
   "id": "16b90bcb-b642-4cfe-8239-3cdafc4fda5a",
   "metadata": {},
   "outputs": [
    {
     "name": "stdout",
     "output_type": "stream",
     "text": [
      "Datatype:torch.int64\n",
      "Device:cpu\n"
     ]
    }
   ],
   "source": [
    "##Tensor Attributes\n",
    "print(f\"Datatype:{x.dtype}\")\n",
    "print(f\"Device:{x.device}\")"
   ]
  },
  {
   "cell_type": "code",
   "execution_count": 5,
   "id": "eeddfde2-3107-4752-b61d-e0a66b0c54b9",
   "metadata": {},
   "outputs": [
    {
     "name": "stdout",
     "output_type": "stream",
     "text": [
      "Device after moving:cpu\n"
     ]
    }
   ],
   "source": [
    "if torch.cuda.is_available():\n",
    "    x=x.to('cuda')\n",
    "print(f\"Device after moving:{x.device}\")\n"
   ]
  },
  {
   "cell_type": "code",
   "execution_count": 9,
   "id": "258ec9c5-ff1c-4021-bd44-77e5a68f1277",
   "metadata": {},
   "outputs": [
    {
     "name": "stdout",
     "output_type": "stream",
     "text": [
      "tensor([[0., 0., 0.],\n",
      "        [0., 0., 0.],\n",
      "        [0., 0., 0.]]) tensor([[1., 1., 1.],\n",
      "        [1., 1., 1.],\n",
      "        [1., 1., 1.]]) tensor([[1., 0., 0.],\n",
      "        [0., 1., 0.],\n",
      "        [0., 0., 1.]])\n"
     ]
    }
   ],
   "source": [
    "##Types of Tensors\n",
    "zeros=torch.zeros(3,3)\n",
    "ones=torch.ones(3,3)\n",
    "identity=torch.eye(3)\n",
    "print(zeros,ones,identity)"
   ]
  },
  {
   "cell_type": "code",
   "execution_count": 11,
   "id": "0c23aa0b-6acb-4a39-962d-2c85fffb2853",
   "metadata": {},
   "outputs": [
    {
     "name": "stdout",
     "output_type": "stream",
     "text": [
      "tensor([[0.4646, 0.6782, 0.5327, 0.2238],\n",
      "        [0.2772, 0.6540, 0.2814, 0.9269]]) tensor([0, 2, 4, 6])\n"
     ]
    }
   ],
   "source": [
    "##Random and Arange Tensors\n",
    "random=torch.rand(2,4)\n",
    "arrange=torch.arange(0,8,2)\n",
    "print(random,arrange)"
   ]
  },
  {
   "cell_type": "code",
   "execution_count": 12,
   "id": "256676a6-1738-405a-89de-eaca3be2f6c0",
   "metadata": {},
   "outputs": [
    {
     "name": "stdout",
     "output_type": "stream",
     "text": [
      "tensor([9., 8., 1., 3.], dtype=torch.float64) torch.float64\n"
     ]
    }
   ],
   "source": [
    "##Changing Tensor Datatype\n",
    "x=torch.tensor([9,8,1,3],dtype=torch.float64)\n",
    "print(x,x.dtype)"
   ]
  },
  {
   "cell_type": "code",
   "execution_count": 14,
   "id": "d73e7c2f-127f-4e42-977e-2d97306e5acc",
   "metadata": {},
   "outputs": [
    {
     "name": "stdout",
     "output_type": "stream",
     "text": [
      "tensor([1.5000, 2.5000, 3.5000], dtype=torch.float64) torch.float64\n"
     ]
    }
   ],
   "source": [
    "##.to() Method\n",
    "x=torch.tensor([1.5,2.5,3.5])\n",
    "xd=x.to(torch.float64)\n",
    "print(xd,xd.dtype)"
   ]
  },
  {
   "cell_type": "code",
   "execution_count": 15,
   "id": "a86b14ba-334d-45c1-8753-1e59704b586c",
   "metadata": {},
   "outputs": [
    {
     "name": "stdout",
     "output_type": "stream",
     "text": [
      "tensor([1., 2., 3.])\n",
      "torch.float32\n"
     ]
    }
   ],
   "source": [
    "##.type() Method\n",
    "x=torch.tensor([1,2,3])\n",
    "xf=x.type(torch.float32)\n",
    "print(xf)\n",
    "print(xf.dtype)"
   ]
  },
  {
   "cell_type": "code",
   "execution_count": 16,
   "id": "48fd0d79-514a-46a8-ab85-c5cc47628bed",
   "metadata": {},
   "outputs": [
    {
     "name": "stdout",
     "output_type": "stream",
     "text": [
      "tensor([1., 2., 2.], dtype=torch.float16)\n",
      "tensor([1., 2., 2.])\n",
      "tensor([1., 2., 2.], dtype=torch.float64)\n",
      "tensor([1, 2, 2], dtype=torch.int32)\n",
      "tensor([True, True, True])\n"
     ]
    }
   ],
   "source": [
    "##.half() Method\n",
    "x=torch.tensor([1,2,2])\n",
    "\n",
    "xh=x.half()\n",
    "print(xh)\n",
    "\n",
    "##.float() type\n",
    "xf=x.float()\n",
    "print(xf)\n",
    "\n",
    "##.double() Method\n",
    "xd=x.double()\n",
    "print(xd)\n",
    "\n",
    "##.int() Method\n",
    "xi=x.int()\n",
    "print(xi)\n",
    "\n",
    "##.bool() Method\n",
    "xb=x.bool()\n",
    "print(xb)\n"
   ]
  },
  {
   "cell_type": "code",
   "execution_count": null,
   "id": "865e479b-27b7-430c-ad4f-07b152a2f61c",
   "metadata": {},
   "outputs": [],
   "source": []
  }
 ],
 "metadata": {
  "kernelspec": {
   "display_name": "Python 3 (ipykernel)",
   "language": "python",
   "name": "python3"
  },
  "language_info": {
   "codemirror_mode": {
    "name": "ipython",
    "version": 3
   },
   "file_extension": ".py",
   "mimetype": "text/x-python",
   "name": "python",
   "nbconvert_exporter": "python",
   "pygments_lexer": "ipython3",
   "version": "3.10.0"
  }
 },
 "nbformat": 4,
 "nbformat_minor": 5
}
