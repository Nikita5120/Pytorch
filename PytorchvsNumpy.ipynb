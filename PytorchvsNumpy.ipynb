{
 "cells": [
  {
   "cell_type": "markdown",
   "id": "1da4ff06-92c0-43af-bed9-43fe510ef760",
   "metadata": {},
   "source": [
    "PyTorch and NumPy\n"
   ]
  },
  {
   "cell_type": "code",
   "execution_count": 1,
   "id": "8c6c1b3d-790a-42b6-b592-0aad38589c67",
   "metadata": {},
   "outputs": [
    {
     "name": "stdout",
     "output_type": "stream",
     "text": [
      "NumPy Array: [1. 2. 3. 4.]\n"
     ]
    }
   ],
   "source": [
    "#Converting a PyTorch Tensor to a NumPy Array\n",
    "import torch\n",
    "import numpy as np\n",
    "\n",
    "# Create a PyTorch tensor\n",
    "tensor = torch.tensor([1.0, 2.0, 3.0, 4.0])\n",
    "\n",
    "# Convert to NumPy array\n",
    "numpy_array = tensor.numpy()\n",
    "print(\"NumPy Array:\", numpy_array)\n"
   ]
  },
  {
   "cell_type": "code",
   "execution_count": 2,
   "id": "a4db5db5-feba-4921-98db-09dd9d515d8a",
   "metadata": {},
   "outputs": [
    {
     "name": "stdout",
     "output_type": "stream",
     "text": [
      "Updated Tensor: tensor([100.,   2.,   3.,   4.])\n",
      "Updated NumPy Array: [100.   2.   3.   4.]\n"
     ]
    }
   ],
   "source": [
    "tensor[0] = 100\n",
    "print(\"Updated Tensor:\", tensor)\n",
    "print(\"Updated NumPy Array:\", numpy_array)\n"
   ]
  },
  {
   "cell_type": "code",
   "execution_count": 3,
   "id": "a879dbd8-4aee-46a6-8949-f2634d8619e4",
   "metadata": {},
   "outputs": [
    {
     "name": "stdout",
     "output_type": "stream",
     "text": [
      "PyTorch Tensor: tensor([10, 20, 30, 40], dtype=torch.int32)\n"
     ]
    }
   ],
   "source": [
    "#Converting a NumPy Array to a PyTorch Tensor\n",
    "numpy_array = np.array([10, 20, 30, 40])\n",
    "\n",
    "# Convert to PyTorch tensor\n",
    "tensor = torch.from_numpy(numpy_array)\n",
    "print(\"PyTorch Tensor:\", tensor)\n"
   ]
  },
  {
   "cell_type": "code",
   "execution_count": 4,
   "id": "692bd29a-00b0-41fd-97b5-636cfdff85b2",
   "metadata": {},
   "outputs": [
    {
     "name": "stdout",
     "output_type": "stream",
     "text": [
      "Updated NumPy Array: [999  20  30  40]\n",
      "Updated Tensor: tensor([999,  20,  30,  40], dtype=torch.int32)\n"
     ]
    }
   ],
   "source": [
    "numpy_array[0] = 999\n",
    "print(\"Updated NumPy Array:\", numpy_array)\n",
    "print(\"Updated Tensor:\", tensor)\n"
   ]
  },
  {
   "cell_type": "code",
   "execution_count": 5,
   "id": "c263a34c-4541-4046-aaa2-94c0c342fe49",
   "metadata": {},
   "outputs": [],
   "source": [
    "#Ensuring Independent Copies\n",
    "# Create independent copies\n",
    "tensor_independent = torch.tensor(numpy_array)  # Independent tensor copy\n",
    "numpy_independent = tensor.numpy().copy()       # Independent numpy array copy\n"
   ]
  },
  {
   "cell_type": "code",
   "execution_count": 6,
   "id": "1385c61f-4304-4984-923b-e0750f814e46",
   "metadata": {},
   "outputs": [
    {
     "name": "stdout",
     "output_type": "stream",
     "text": [
      "PyTorch Time: 0.030370235443115234\n",
      "NumPy Time: 0.01453256607055664\n"
     ]
    }
   ],
   "source": [
    "#Performance Comparison: PyTorch vs. NumPy\n",
    "import time\n",
    "\n",
    "# PyTorch matrix multiplication\n",
    "tensor1 = torch.rand(1000, 1000)\n",
    "tensor2 = torch.rand(1000, 1000)\n",
    "\n",
    "start_time = time.time()\n",
    "torch.matmul(tensor1, tensor2)\n",
    "print(\"PyTorch Time:\", time.time() - start_time)\n",
    "\n",
    "# NumPy matrix multiplication\n",
    "numpy1 = tensor1.numpy()\n",
    "numpy2 = tensor2.numpy()\n",
    "\n",
    "start_time = time.time()\n",
    "np.dot(numpy1, numpy2)\n",
    "print(\"NumPy Time:\", time.time() - start_time)\n"
   ]
  },
  {
   "cell_type": "code",
   "execution_count": null,
   "id": "810529da-d6d8-4d45-bb74-b660dc229f3e",
   "metadata": {},
   "outputs": [],
   "source": []
  }
 ],
 "metadata": {
  "kernelspec": {
   "display_name": "Python 3 (ipykernel)",
   "language": "python",
   "name": "python3"
  },
  "language_info": {
   "codemirror_mode": {
    "name": "ipython",
    "version": 3
   },
   "file_extension": ".py",
   "mimetype": "text/x-python",
   "name": "python",
   "nbconvert_exporter": "python",
   "pygments_lexer": "ipython3",
   "version": "3.10.0"
  }
 },
 "nbformat": 4,
 "nbformat_minor": 5
}
