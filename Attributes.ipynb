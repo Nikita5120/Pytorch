{
 "cells": [
  {
   "cell_type": "code",
   "execution_count": 1,
   "id": "5840bde4-78ee-4a99-87ec-9317e8e20559",
   "metadata": {},
   "outputs": [
    {
     "name": "stdout",
     "output_type": "stream",
     "text": [
      "torch.Size([3, 3])\n",
      "torch.Size([3, 3])\n"
     ]
    }
   ],
   "source": [
    "import torch\n",
    "\n",
    "# Creating a 3x3 tensor\n",
    "x = torch.tensor([[1, 2, 3], [4, 5, 6], [7, 8, 9]])\n",
    "\n",
    "print(x.shape)  # Output: torch.Size([3, 3])\n",
    "print(x.size()) # Output: torch.Size([3, 3])  (Equivalent to shape)\n"
   ]
  },
  {
   "cell_type": "code",
   "execution_count": 6,
   "id": "94eed6b8-7dee-4729-88d8-fd9e12752009",
   "metadata": {},
   "outputs": [
    {
     "name": "stdout",
     "output_type": "stream",
     "text": [
      "cpu\n"
     ]
    }
   ],
   "source": [
    "x = torch.tensor([1, 2, 3])\n",
    "print(x.device)"
   ]
  },
  {
   "cell_type": "code",
   "execution_count": 7,
   "id": "c0ae9b3b-c540-4bf3-ad56-d0e442a43215",
   "metadata": {},
   "outputs": [
    {
     "name": "stdout",
     "output_type": "stream",
     "text": [
      "10\n"
     ]
    }
   ],
   "source": [
    "##.numel()\n",
    "x=torch.ones(2,5)\n",
    "print(x.numel())"
   ]
  },
  {
   "cell_type": "code",
   "execution_count": 8,
   "id": "8136e12f-785a-4ee8-9e92-f52bc509e909",
   "metadata": {},
   "outputs": [
    {
     "name": "stdout",
     "output_type": "stream",
     "text": [
      "2\n",
      "2\n"
     ]
    }
   ],
   "source": [
    "##.ndim() or .dim()\n",
    "x=torch.ones(2,5)\n",
    "print(x.ndim)\n",
    "print(x.dim())\n"
   ]
  },
  {
   "cell_type": "code",
   "execution_count": 14,
   "id": "9efe4107-9368-4c49-9e17-f852836b6c43",
   "metadata": {},
   "outputs": [
    {
     "name": "stdout",
     "output_type": "stream",
     "text": [
      "4\n"
     ]
    }
   ],
   "source": [
    "##.element_size()\n",
    "x=torch.ones(2,5)\n",
    "dtype=torch.float32\n",
    "print(x.element_size())"
   ]
  },
  {
   "cell_type": "code",
   "execution_count": 15,
   "id": "ce43245f-1192-4944-b1b5-fde21c0857de",
   "metadata": {},
   "outputs": [
    {
     "name": "stdout",
     "output_type": "stream",
     "text": [
      "4\n"
     ]
    }
   ],
   "source": [
    "x = torch.tensor([1, 2, 3], dtype=torch.float32)\n",
    "print(x.element_size())  # Output: 4 (each float32 takes 4 bytes)\n"
   ]
  },
  {
   "cell_type": "code",
   "execution_count": null,
   "id": "ab4b91a4-7661-42d4-8c84-51fc3153a03c",
   "metadata": {},
   "outputs": [],
   "source": []
  }
 ],
 "metadata": {
  "kernelspec": {
   "display_name": "Python 3 (ipykernel)",
   "language": "python",
   "name": "python3"
  },
  "language_info": {
   "codemirror_mode": {
    "name": "ipython",
    "version": 3
   },
   "file_extension": ".py",
   "mimetype": "text/x-python",
   "name": "python",
   "nbconvert_exporter": "python",
   "pygments_lexer": "ipython3",
   "version": "3.10.0"
  }
 },
 "nbformat": 4,
 "nbformat_minor": 5
}
