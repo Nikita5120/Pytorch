{
 "cells": [
  {
   "cell_type": "markdown",
   "id": "466a4958-0801-48ed-9818-2f83211a4c48",
   "metadata": {},
   "source": [
    "Matrix Multiplication in PyTorch\n"
   ]
  },
  {
   "cell_type": "code",
   "execution_count": 1,
   "id": "abf19625-fdb5-4d84-99ae-21520b1ad36f",
   "metadata": {},
   "outputs": [
    {
     "name": "stdout",
     "output_type": "stream",
     "text": [
      "tensor([[19, 22],\n",
      "        [43, 50]])\n"
     ]
    }
   ],
   "source": [
    "##torch.mm()\n",
    "import torch\n",
    "\n",
    "A = torch.tensor([[1, 2], [3, 4]])\n",
    "B = torch.tensor([[5, 6], [7, 8]])\n",
    "\n",
    "C = torch.mm(A, B)  # Matrix multiplication\n",
    "print(C)\n"
   ]
  },
  {
   "cell_type": "code",
   "execution_count": 2,
   "id": "423a6729-ece4-4b1e-b503-1891d1cde8bf",
   "metadata": {},
   "outputs": [
    {
     "name": "stdout",
     "output_type": "stream",
     "text": [
      "tensor([[19, 22],\n",
      "        [43, 50]])\n"
     ]
    }
   ],
   "source": [
    "##torch.matmul()\n",
    "A = torch.tensor([[1, 2], [3, 4]])\n",
    "B = torch.tensor([[5, 6], [7, 8]])\n",
    "\n",
    "C = torch.matmul(A, B)  # Recommended for general use\n",
    "print(C)\n"
   ]
  },
  {
   "cell_type": "code",
   "execution_count": 3,
   "id": "fdde2f60-1e70-48cf-8c83-b63eb6e979b0",
   "metadata": {},
   "outputs": [
    {
     "name": "stdout",
     "output_type": "stream",
     "text": [
      "torch.Size([2, 3, 5])\n"
     ]
    }
   ],
   "source": [
    "##It works for batch-wise multiplication of higher-dimensional tensors:\n",
    "\n",
    "A = torch.rand(2, 3, 4)  # 3D tensor\n",
    "B = torch.rand(2, 4, 5)  # 3D tensor\n",
    "\n",
    "C = torch.matmul(A, B)  # Automatically performs batch multiplication\n",
    "print(C.shape)  # Output: torch.Size([2, 3, 5])\n"
   ]
  },
  {
   "cell_type": "code",
   "execution_count": 4,
   "id": "a2e46518-6896-4ede-8615-4d216d6ac714",
   "metadata": {},
   "outputs": [],
   "source": [
    "##@ Operator (Pythonic Way)\n",
    "C = A @ B  # Equivalent to torch.matmul(A, B)\n"
   ]
  },
  {
   "cell_type": "code",
   "execution_count": 5,
   "id": "40275d90-1a97-4290-ad92-528b5bb9afbe",
   "metadata": {},
   "outputs": [
    {
     "name": "stdout",
     "output_type": "stream",
     "text": [
      "torch.Size([10, 3, 5])\n"
     ]
    }
   ],
   "source": [
    "##torch.bmm() (Batch Matrix Multiplication)\n",
    "A = torch.rand(10, 3, 4)  # Batch of 10 matrices (3x4)\n",
    "B = torch.rand(10, 4, 5)  # Batch of 10 matrices (4x5)\n",
    "\n",
    "C = torch.bmm(A, B)  # Batch matrix multiplication\n",
    "print(C.shape)  # Output: torch.Size([10, 3, 5])\n"
   ]
  },
  {
   "cell_type": "code",
   "execution_count": 6,
   "id": "36df50cc-78e8-47d0-b3f6-351469280d96",
   "metadata": {},
   "outputs": [
    {
     "name": "stdout",
     "output_type": "stream",
     "text": [
      "tensor([[ 5, 12],\n",
      "        [21, 32]])\n"
     ]
    }
   ],
   "source": [
    "##Element-Wise Multiplication (torch.mul())\n",
    "A = torch.tensor([[1, 2], [3, 4]])\n",
    "B = torch.tensor([[5, 6], [7, 8]])\n",
    "\n",
    "C = A * B  # Element-wise multiplication\n",
    "print(C)\n"
   ]
  },
  {
   "cell_type": "code",
   "execution_count": 7,
   "id": "156fb695-06f0-45f5-bb52-b92a41cba44d",
   "metadata": {},
   "outputs": [
    {
     "name": "stdout",
     "output_type": "stream",
     "text": [
      "tensor([[14, 32],\n",
      "        [32, 77]])\n"
     ]
    }
   ],
   "source": [
    "##Transposing a Matrix Before Multiplication\n",
    "A = torch.tensor([[1, 2, 3], [4, 5, 6]])\n",
    "B = torch.tensor([[1, 4], [2, 5], [3, 6]])\n",
    "\n",
    "C = torch.mm(A, B)  # Shape (2,3) x (3,2) → (2,2)\n",
    "print(C)\n"
   ]
  },
  {
   "cell_type": "code",
   "execution_count": 9,
   "id": "abd4989e-3ed7-42f7-8106-2548e61cc25b",
   "metadata": {},
   "outputs": [],
   "source": [
    "device = torch.device(\"cuda\" if torch.cuda.is_available() else \"cpu\")\n",
    "\n",
    "A = torch.rand(1000, 1000).to(device)  # Move tensors to GPU\n",
    "B = torch.rand(1000, 1000).to(device)\n",
    "\n",
    "C = torch.matmul(A, B)  # GPU-accelerated matrix multiplication\n"
   ]
  },
  {
   "cell_type": "code",
   "execution_count": 10,
   "id": "3be4b508-1366-4c94-8ae5-abb5e32eb4d3",
   "metadata": {},
   "outputs": [
    {
     "name": "stdout",
     "output_type": "stream",
     "text": [
      "tensor([[19., 22.],\n",
      "        [43., 50.]])\n"
     ]
    }
   ],
   "source": [
    "##Implementation of Strassen’s Algorithm in Python\n",
    "import torch\n",
    "\n",
    "def strassen_multiply(A, B):\n",
    "    \"\"\"\n",
    "    Function to multiply two matrices using Strassen's algorithm.\n",
    "    Assumes that A and B are square matrices of size 2^k x 2^k.\n",
    "    \"\"\"\n",
    "    n = A.shape[0]\n",
    "\n",
    "    # Base case: if the matrix size is 1x1, perform scalar multiplication\n",
    "    if n == 1:\n",
    "        return A * B\n",
    "    \n",
    "    # Divide matrices into four submatrices\n",
    "    mid = n // 2\n",
    "\n",
    "    A11, A12 = A[:mid, :mid], A[:mid, mid:]\n",
    "    A21, A22 = A[mid:, :mid], A[mid:, mid:]\n",
    "    B11, B12 = B[:mid, :mid], B[:mid, mid:]\n",
    "    B21, B22 = B[mid:, :mid], B[mid:, mid:]\n",
    "\n",
    "    # Compute the seven Strassen multiplications\n",
    "    M1 = strassen_multiply(A11 + A22, B11 + B22)\n",
    "    M2 = strassen_multiply(A21 + A22, B11)\n",
    "    M3 = strassen_multiply(A11, B12 - B22)\n",
    "    M4 = strassen_multiply(A22, B21 - B11)\n",
    "    M5 = strassen_multiply(A11 + A12, B22)\n",
    "    M6 = strassen_multiply(A21 - A11, B11 + B12)\n",
    "    M7 = strassen_multiply(A12 - A22, B21 + B22)\n",
    "\n",
    "    # Compute the four quadrants of the result matrix\n",
    "    C11 = M1 + M4 - M5 + M7\n",
    "    C12 = M3 + M5\n",
    "    C21 = M2 + M4\n",
    "    C22 = M1 - M2 + M3 + M6\n",
    "\n",
    "    # Combine the quadrants into the final matrix\n",
    "    C = torch.zeros((n, n), dtype=A.dtype)\n",
    "    C[:mid, :mid] = C11\n",
    "    C[:mid, mid:] = C12\n",
    "    C[mid:, :mid] = C21\n",
    "    C[mid:, mid:] = C22\n",
    "\n",
    "    return C\n",
    "\n",
    "# Example usage\n",
    "A = torch.tensor([[1, 2], [3, 4]], dtype=torch.float32)\n",
    "B = torch.tensor([[5, 6], [7, 8]], dtype=torch.float32)\n",
    "\n",
    "C = strassen_multiply(A, B)\n",
    "print(C)\n"
   ]
  },
  {
   "cell_type": "code",
   "execution_count": null,
   "id": "b3ad724f-0960-45b1-ba5b-4cb5433dd72e",
   "metadata": {},
   "outputs": [],
   "source": []
  }
 ],
 "metadata": {
  "kernelspec": {
   "display_name": "Python 3 (ipykernel)",
   "language": "python",
   "name": "python3"
  },
  "language_info": {
   "codemirror_mode": {
    "name": "ipython",
    "version": 3
   },
   "file_extension": ".py",
   "mimetype": "text/x-python",
   "name": "python",
   "nbconvert_exporter": "python",
   "pygments_lexer": "ipython3",
   "version": "3.10.0"
  }
 },
 "nbformat": 4,
 "nbformat_minor": 5
}
